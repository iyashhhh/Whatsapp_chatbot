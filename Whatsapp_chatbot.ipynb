{
  "nbformat": 4,
  "nbformat_minor": 0,
  "metadata": {
    "colab": {
      "provenance": []
    },
    "kernelspec": {
      "name": "python3",
      "display_name": "Python 3"
    },
    "language_info": {
      "name": "python"
    }
  },
  "cells": [
    {
      "cell_type": "code",
      "execution_count": null,
      "metadata": {
        "id": "fyYnQ0_TEBGo"
      },
      "outputs": [],
      "source": [
        "from flask import Flask,request\n",
        "import requests\n",
        "from twilio.twiml.messaging_response import MessagingResponse\n",
        "from twilio.rest import Client\n",
        "#mongoDB code\n",
        "import pymongo\n",
        "client2 = pymongo.MongoClient('mongodb://127.0.0.1:27017/')\n",
        "mydb=client2['DBMSandITL']\n",
        "information= mydb.orders\n",
        "\n",
        "\n",
        "\n",
        "acc_sid = 'AC91f80b07a3deef5ae6ce9e5b3cf194a9'\n",
        "auth_token = '90601e4e6120d519dd9572dcad6be49a'\n",
        "app=Flask(__name__)\n",
        "client = Client(acc_sid,auth_token)\n",
        "\n",
        "\n",
        "@app.route('/mybot', methods = ['POST'])\n",
        "\n",
        "def mybot():\n",
        "incoming_msg = request.values.get('Body','').lower()\n",
        "resp = MessagingResponse()\n",
        "msg = resp.message()\n",
        "responded = False\n",
        "if incoming_msg == 'hi':\n",
        "client.messages.create(\n",
        "to=\"whatsapp:+919284936420\",\n",
        "from_=\"whatsapp:+14155238886\",\n",
        "body=\"Hi , Place your Ice-Cream Order here - \\n(Format: MyOrder: FirstName LastName Quantity-Flavour City PhoneNumber)\\n|| We have Strawberry , Vanilla , ButterScotch , Mango \"\n",
        ")\n",
        "responded = True\n",
        "\n",
        "if 'who are you' in incoming_msg:\n",
        "client.messages.create(\n",
        "to=\"whatsapp:+919284936420\",\n",
        "from_=\"whatsapp:+14155238886\",\n",
        "body=\"I am a WhatsApp Ordering ChatBot Developed By Group no. 7 for DBMS and ITL Project SY\")\n",
        "responded=True\n",
        "\n",
        "if incoming_msg.split(\" \")[0] == 'myorder:':\n",
        "dbList = incoming_msg.split(\" \")\n",
        "print(dbList)\n",
        "\n",
        "firstName = incoming_msg.split(\" \")[1]\n",
        "lastName = incoming_msg.split(\" \")[2]\n",
        "order = incoming_msg.split(\" \")[3]\n",
        "city = incoming_msg.split(\" \")[4]\n",
        "phoneNum = incoming_msg.split(\" \")[5]\n",
        "if len(phoneNum) == 10 :\n",
        "records={'firstName':firstName,'lastName':lastName,'order':order,'city':city,'phoneNum':phoneNum}\n",
        "information.insert_one(records)\n",
        "client.messages.create(\n",
        "to=\"whatsapp:+919284936420\",\n",
        "from_=\"whatsapp:+14155238886\",\n",
        "body=\"YAY !! Order Placed. Your Ice-Cream will be delivered soon.\")\n",
        "else:\n",
        "client.messages.create(\n",
        "to=\"whatsapp:+919284936420\",\n",
        "from_=\"whatsapp:+14155238886\",\n",
        "body=\"Enter Valid Phone Number. And order Again!\")\n",
        "\n",
        "\n",
        "\n",
        "return str(resp)\n",
        "\n",
        "if __name__ == \"__main__\":\n",
        "app.run()"
      ]
    }
  ]
}